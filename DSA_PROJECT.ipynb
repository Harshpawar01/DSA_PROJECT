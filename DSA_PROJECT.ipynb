{
  "nbformat": 4,
  "nbformat_minor": 0,
  "metadata": {
    "colab": {
      "provenance": [],
      "include_colab_link": true
    },
    "kernelspec": {
      "name": "python3",
      "display_name": "Python 3"
    },
    "language_info": {
      "name": "python"
    }
  },
  "cells": [
    {
      "cell_type": "markdown",
      "metadata": {
        "id": "view-in-github",
        "colab_type": "text"
      },
      "source": [
        "<a href=\"https://colab.research.google.com/github/Harshpawar01/DSA_PROJECT/blob/main/DSA_PROJECT.ipynb\" target=\"_parent\"><img src=\"https://colab.research.google.com/assets/colab-badge.svg\" alt=\"Open In Colab\"/></a>"
      ]
    },
    {
      "cell_type": "code",
      "execution_count": null,
      "metadata": {
        "colab": {
          "base_uri": "https://localhost:8080/"
        },
        "id": "kuuB8mOR6RH9",
        "outputId": "cf64758f-277b-4f90-9fea-5f908b494a7d"
      },
      "outputs": [
        {
          "output_type": "stream",
          "name": "stdout",
          "text": [
            "what is your name ? Harsh Pawar\n",
            "welcome Harsh Pawar\n"
          ]
        }
      ],
      "source": [
        "#       1.  QUESTIONS RELATED TO (TAKING INPUT FROM USER)\n",
        "\n",
        "# taking input from user\n",
        "name = input(\"what is your name ? \")\n",
        "print(\"welcome\", name)"
      ]
    },
    {
      "cell_type": "code",
      "source": [
        "# program to add inputs\n",
        "sub1 = int(input(\"mark sub1: \"))\n",
        "sub2 = int(input(\"mark sub2: \"))\n",
        "total = sub1 + sub2\n",
        "print(\"The total mark is: \", total)"
      ],
      "metadata": {
        "colab": {
          "base_uri": "https://localhost:8080/"
        },
        "id": "HQ8DzGf560WE",
        "outputId": "3524a569-bbcc-429f-b856-d8d9b60d6d9a"
      },
      "execution_count": null,
      "outputs": [
        {
          "output_type": "stream",
          "name": "stdout",
          "text": [
            "mark sub1: 3\n",
            "mark sub2: 2\n",
            "The total mark is:  5\n"
          ]
        }
      ]
    },
    {
      "cell_type": "code",
      "source": [
        "# AREA OF TRIANGLE\n",
        "\n",
        "b = float(input(\"enter base: \"))\n",
        "h = float(input(\"enter height: \"))\n",
        "area = 1/2 * b * h\n",
        "print(area)"
      ],
      "metadata": {
        "id": "VPZ52Y517IFz"
      },
      "execution_count": null,
      "outputs": []
    },
    {
      "cell_type": "code",
      "source": [
        "# area of triangle (if perimeter is given)\n",
        "\n",
        "a = float(input(\"enter length of 1st side: \"))   # 3\n",
        "b = float(input(\"enter length of 2nd side: \"))   # 4\n",
        "c = float(input(\"enter length of 3rd side: \"))   # 5\n",
        "\n",
        "# calculate semi-perimeter\n",
        "s = (a+b+c)/2\n",
        "# calculate Area\n",
        "area = (s*(s-a) * (s-b) * (s-c)) ** 0.5\n",
        "print(\"\\nArea of the triangle is : \", area)"
      ],
      "metadata": {
        "id": "w0j5ssEk7LGk"
      },
      "execution_count": null,
      "outputs": []
    },
    {
      "cell_type": "code",
      "source": [
        "#         2. QUESTIONS RELATED TO  (IF ELSE CODE)\n",
        "\n",
        "\n",
        "# WRITE A PYTHON PROGRAM TO TELL THE TEMPERATURE BY INPUT\n",
        "\n",
        "temp = int(input(\"enter any values\"))\n",
        "if temp > 30:\n",
        "    print(\"it's a hot day\")\n",
        "elif temp > 25:\n",
        "    print(\"it's a pleasant day\")\n",
        "elif temp > 25:\n",
        "    print(\"it's a cold day\")\n",
        "else:\n",
        "    print(\"it's a chilly day\")\n",
        "print(\"it's a beautiful day\")"
      ],
      "metadata": {
        "id": "omix84ud7XuQ"
      },
      "execution_count": null,
      "outputs": []
    },
    {
      "cell_type": "code",
      "source": [
        "# GRADE QUESTION\n",
        "# MAKE A PYTHON PROGRAM USING IF ELSE TO TELL THE GRADES ACCORDING TO THE PERCENTAGE OF MARKS. (USE INPUT FUNCTION)\n",
        "\n",
        "\n",
        "# calculate percentage\n",
        "a = float(input(\"marks a: \"))\n",
        "b = float(input(\"marks b: \"))\n",
        "c = float(input(\"marks c: \"))\n",
        "d = float(input(\"marks d: \"))\n",
        "e = float(input(\"marks e: \"))\n",
        "\n",
        "percentage = (a+b+c+d+e)/500*100\n",
        "print(f\"The percentage is: {percentage} %\")\n",
        "\n",
        "# input percentage\n",
        "percentage = float(input(\"enter marks in percentage: \"))\n",
        "if percentage > 95:\n",
        "    print(\"A+\")\n",
        "elif percentage > 90:\n",
        "    print(\"A\")\n",
        "elif percentage > 80:\n",
        "    print(\"B+\")\n",
        "elif percentage > 70:\n",
        "    print(\"B\")\n",
        "elif percentage > 60:\n",
        "    print(\"C+\")\n",
        "elif percentage > 50:\n",
        "    print(\"C\")\n",
        "elif percentage > 40:\n",
        "    print(\"D+\")\n",
        "elif percentage > 33:\n",
        "    print(\"D\")\n",
        "else:\n",
        "    print(\"F\")"
      ],
      "metadata": {
        "id": "Pi6_t_Fj7aBm"
      },
      "execution_count": null,
      "outputs": []
    },
    {
      "cell_type": "code",
      "source": [
        "# CALCULATE GROSS SALARY OF A PERSON CONSIDERING THE FOLLOWING INFORMATION.\n",
        "basic = int(input(\"what is basic: \"))\n",
        "hra = 0.20 * basic\n",
        "da = 0.50 * basic\n",
        "pf = 0.11 * basic\n",
        "print(hra)\n",
        "print(da)\n",
        "print(pf)\n",
        "if basic > 10000:\n",
        "    allowance = 1700\n",
        "elif basic > 5000:\n",
        "    allowance = 15000\n",
        "else:\n",
        "    allowance = 1300\n",
        "print(\"The allowance is: \", allowance)\n",
        "\n",
        "gs = basic + hra + da + allowance - pf\n",
        "print(\"The gross salary is :\" , gs)"
      ],
      "metadata": {
        "id": "7n5fvb-y7cy_"
      },
      "execution_count": null,
      "outputs": []
    },
    {
      "cell_type": "code",
      "source": [
        "#                 3. python project to build a calculator\n",
        "#Let’s build a Calculator\n",
        "#Our Calculator\n",
        "first = input(\"Enter first number : \")\n",
        "second = input(\"Enter second number : \")\n",
        "first = int(first)\n",
        "second = int(second)\n",
        "print(\"----press keys for operator (+,-,*,/,%)----------\")\n",
        "operator = input(\"Enter operator : \")\n",
        "if operator == \"+\":\n",
        "    print(first + second)\n",
        "elif operator == \"-\":\n",
        "    print(first - second)\n",
        "elif operator == \"*\":\n",
        "    print(first * second)\n",
        "elif operator == \"/\":\n",
        "    print(first / second)\n",
        "elif operator == \"%\":\n",
        "    print(first % second)\n",
        "else:\n",
        "    print(\"Invalid Operation\")"
      ],
      "metadata": {
        "id": "rPyTO0qT7foc"
      },
      "execution_count": null,
      "outputs": []
    },
    {
      "cell_type": "code",
      "source": [
        "#               4. BELOW QUESTIONS RELATED TO  (DEF FUNCTIONS)\n",
        "\n",
        "# write program to print \"HELLO WORLD\" using def function.\n",
        "\n",
        "def myfunction():\n",
        "    print(\"Hello World\")\n",
        "myfunction()"
      ],
      "metadata": {
        "id": "7Bb4rpt07-0w"
      },
      "execution_count": null,
      "outputs": []
    },
    {
      "cell_type": "code",
      "source": [
        "# WRITE A PYTHON PROGRAM TO PRINT HAPPY BIRTHDAY WISH 3 TIMES USING DEF FUNCTION.\n",
        "\n",
        "def myfunction():\n",
        "    print(\"Happy birday to you !may god bless you !Happy birthday to you !\")\n",
        "myfunction()\n",
        "myfunction()\n",
        "myfunction()"
      ],
      "metadata": {
        "id": "N_jOqTKF8AsU"
      },
      "execution_count": null,
      "outputs": []
    },
    {
      "cell_type": "code",
      "source": [
        "# addition of two number :\n",
        "first = int(input(\"enter 1st no. :\"))\n",
        "second = int(input(\"enter 2nd no. :\"))\n",
        "sum = first + second\n",
        "print(\"The sum is :\" ,sum)\n"
      ],
      "metadata": {
        "id": "r4AfhXXs8CwY"
      },
      "execution_count": null,
      "outputs": []
    },
    {
      "cell_type": "code",
      "source": [
        "a = 2\n",
        "b = 3\n",
        "print(a+b)"
      ],
      "metadata": {
        "id": "nEr93aAX84NJ"
      },
      "execution_count": null,
      "outputs": []
    },
    {
      "cell_type": "code",
      "source": [
        "num1 = 2\n",
        "num2 = 3\n",
        "sum = num1 + num2\n",
        "print(\"sum of two numbers is : \", sum)"
      ],
      "metadata": {
        "id": "OmKKaw8l87Op"
      },
      "execution_count": null,
      "outputs": []
    },
    {
      "cell_type": "code",
      "source": [
        "num1 = 2\n",
        "num2 = 3\n",
        "multiplication = num1 * num2\n",
        "print(\"multipication of two numbers is : \", multiplication)"
      ],
      "metadata": {
        "id": "jPl8irU-87wU"
      },
      "execution_count": null,
      "outputs": []
    },
    {
      "cell_type": "code",
      "source": [
        "num1 = 6\n",
        "num2 = 3\n",
        "division = num1 / num2\n",
        "print(\"division of two numbers is : \", division)"
      ],
      "metadata": {
        "id": "MPwSiyLx8_GL"
      },
      "execution_count": null,
      "outputs": []
    },
    {
      "cell_type": "code",
      "source": [
        "num1 = 2\n",
        "num2 = 3\n",
        "sub = num1 - num2\n",
        "print(\"sub of two numbers is : \", sub)"
      ],
      "metadata": {
        "id": "436QWfr09Bgj"
      },
      "execution_count": null,
      "outputs": []
    },
    {
      "cell_type": "code",
      "source": [
        "num1 = 10\n",
        "num2 = 3\n",
        "modulus = num1 % num2\n",
        "print(\"modulus of two numbers is : \", modulus)"
      ],
      "metadata": {
        "id": "gMvuC6t99DYs"
      },
      "execution_count": null,
      "outputs": []
    },
    {
      "cell_type": "code",
      "source": [
        "num1 = 23\n",
        "num2 = 3\n",
        "floor = num1 // num2\n",
        "print(\"floor of two numbers is :\" , floor)\n"
      ],
      "metadata": {
        "id": "S2WJmn489GZu"
      },
      "execution_count": null,
      "outputs": []
    },
    {
      "cell_type": "code",
      "source": [
        "# modulus - for remainder\n",
        "# floor operator - for no decimal"
      ],
      "metadata": {
        "id": "ANnAmgaa9JTz"
      },
      "execution_count": null,
      "outputs": []
    },
    {
      "cell_type": "code",
      "source": [
        "#see notebook"
      ],
      "metadata": {
        "id": "8btktJeC9MP_"
      },
      "execution_count": null,
      "outputs": []
    },
    {
      "cell_type": "code",
      "source": [
        "# que 1\n",
        "a = 2\n",
        "b= 3\n",
        "if a > b:\n",
        "    print(\"a is greater than b !\")\n",
        "else:\n",
        "    print(\"b is greater than a !\")"
      ],
      "metadata": {
        "id": "gdOhrxmJ9NC4"
      },
      "execution_count": null,
      "outputs": []
    },
    {
      "cell_type": "code",
      "source": [
        "# ques 2 elif a==b"
      ],
      "metadata": {
        "id": "E9MhtD409O28"
      },
      "execution_count": null,
      "outputs": []
    },
    {
      "cell_type": "code",
      "source": [
        "a = 10\n",
        "b = 10\n",
        "if a>b:\n",
        "    print(\"a is greater than b !\")\n",
        "elif a==b:\n",
        "    print(\"a is equal to b !\")\n",
        "else:\n",
        "    print(\"b is greater than a ! \")"
      ],
      "metadata": {
        "id": "WLvH49YD9TqR"
      },
      "execution_count": null,
      "outputs": []
    },
    {
      "cell_type": "code",
      "source": [
        "# ques 3"
      ],
      "metadata": {
        "id": "2-Ueapvj9U54"
      },
      "execution_count": null,
      "outputs": []
    },
    {
      "cell_type": "code",
      "source": [
        "a = 10\n",
        "b = 5\n",
        "if a<b:\n",
        "    print(\"a is greater than b :\")\n",
        "elif a == b:\n",
        "    print(\"a is equal to b \")\n",
        "else:\n",
        "    print(\"b is greater than a\")"
      ],
      "metadata": {
        "id": "N0ORz5h39XwJ"
      },
      "execution_count": null,
      "outputs": []
    },
    {
      "cell_type": "code",
      "source": [
        "\n",
        "# quest write a program to check weather the  given no. is even or odd:"
      ],
      "metadata": {
        "id": "iVxyua1A9YjV"
      },
      "execution_count": null,
      "outputs": []
    },
    {
      "cell_type": "code",
      "source": [
        "a = 3\n",
        "if (a%2)==0:\n",
        "    print(\"a is even\")\n",
        "else:\n",
        "    print(\"a is odd\")\n"
      ],
      "metadata": {
        "id": "LtlBzM2K9cW0"
      },
      "execution_count": null,
      "outputs": []
    },
    {
      "cell_type": "code",
      "source": [
        "a = 36\n",
        "if (a%2)==0:\n",
        "    print(\"a is even\")\n",
        "else:\n",
        "    print(\"a is odd \")"
      ],
      "metadata": {
        "id": "TJbaHNAI9c9c"
      },
      "execution_count": null,
      "outputs": []
    },
    {
      "cell_type": "code",
      "source": [],
      "metadata": {
        "id": "0DRKLKu09ffp"
      },
      "execution_count": null,
      "outputs": []
    }
  ]
}